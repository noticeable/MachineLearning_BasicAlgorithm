{
 "cells": [
  {
   "cell_type": "code",
   "execution_count": null,
   "metadata": {
    "collapsed": true
   },
   "outputs": [],
   "source": [
    "# # assume we have Xtr_rows, Ytr, Xte_rows, Yte as before\n",
    "  # # recall Xtr_rows is 50,000 x 3072 matrix\n",
    "  # Xval_rows = Xtr_rows[:1000, :]  # take first 1000 for validation\n",
    "  # Yval = Ytr[:1000]\n",
    "  # Xtr_rows = Xtr_rows[1000:, :]  # keep last 49,000 for train\n",
    "  # Ytr = Ytr[1000:]\n",
    "  #\n",
    "  # # find hyperparameters that work best on the validation set\n",
    "  # validation_accuracies = []\n",
    "  # for k in [1, 3, 5, 10, 20, 50, 100]:\n",
    "  #   # use a particular value of k and evaluation on validation data\n",
    "  #   nn = NearestNeighbor()\n",
    "  #   nn.train(Xtr_rows, Ytr)\n",
    "  #   # here we assume a modified NearestNeighbor class that can take a k as input\n",
    "  #   Yval_predict = nn.predict(Xval_rows, k=k)\n",
    "  #   acc = np.mean(Yval_predict == Yval)\n",
    "  #   print('accuracy: %f' % (acc,))\n",
    "  #\n",
    "  #   # keep track of what works on the validation set\n",
    "  #   validation_accuracies.append((k, acc))"
   ]
  }
 ],
 "metadata": {
  "kernelspec": {
   "display_name": "Python 3",
   "language": "python",
   "name": "python3"
  },
  "language_info": {
   "codemirror_mode": {
    "name": "ipython",
    "version": 3
   },
   "file_extension": ".py",
   "mimetype": "text/x-python",
   "name": "python",
   "nbconvert_exporter": "python",
   "pygments_lexer": "ipython3",
   "version": "3.6.3"
  }
 },
 "nbformat": 4,
 "nbformat_minor": 2
}
